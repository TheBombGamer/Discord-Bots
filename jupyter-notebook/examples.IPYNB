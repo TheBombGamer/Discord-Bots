{
 "cells": [
  {
   "cell_type": "markdown",
   "metadata": {},
   "source": [
    "# The Best Jupyter Notebook for learning Discord.py\n",
    "To start us off we are gonna make a base to the bot and allow it to connect to the discord service if you havent created a discord bot do that now, if you dont know how to the go to the documentation page on https://discordpy.readthedocs.io/en/stable/discord.html, make sure that you copy down your Bot token and put it in your notepad app! Its only showed once! To start it off you need to excecute a command or put \"dotenv\" intom your requirements.txt file, if you dont have a requirements.txt then type the following command into console or command line, if you dont have python then go to this link to learn how to install it https://host.gilect.net/python/install/ otherwise continue:\n",
    "```\n",
    "pip install python-dotenv\n",
    "```\n",
    "after this you will need to create a new folder and open it in your code editor of choice"
   ]
  },
  {
   "cell_type": "code",
   "execution_count": null,
   "metadata": {},
   "outputs": [],
   "source": []
  }
 ],
 "metadata": {
  "language_info": {
   "name": "python"
  }
 },
 "nbformat": 4,
 "nbformat_minor": 2
}
